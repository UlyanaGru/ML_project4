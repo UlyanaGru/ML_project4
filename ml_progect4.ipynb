{
 "cells": [
  {
   "cell_type": "code",
   "execution_count": 154,
   "id": "d5637316",
   "metadata": {},
   "outputs": [],
   "source": [
    "#Импорт библиотек\n",
    "import pandas as pd\n",
    "import numpy as np\n",
    "import matplotlib.pyplot as plt\n",
    "import seaborn as sns\n",
    "from  sklearn.ensemble import IsolationForest\n",
    "import warnings\n",
    "warnings.filterwarnings('ignore')\n",
    "from sklearn.preprocessing  import LabelEncoder\n",
    "from sklearn import linear_model \n",
    "from sklearn import tree \n",
    "from sklearn import ensemble \n",
    "from sklearn import metrics \n",
    "from sklearn import preprocessing \n",
    "from sklearn.model_selection import train_test_split \n",
    "from sklearn.feature_selection import SelectKBest, f_classif\n",
    "from scipy import stats"
   ]
  },
  {
   "cell_type": "code",
   "execution_count": 155,
   "id": "24795e41",
   "metadata": {},
   "outputs": [],
   "source": [
    "#Чтение файла\n",
    "df = pd.read_csv(r'd:\\IDE_github\\ML\\ML_project4\\data\\bank_fin.csv', sep = ';')"
   ]
  },
  {
   "cell_type": "code",
   "execution_count": 156,
   "id": "c81a9a85",
   "metadata": {},
   "outputs": [
    {
     "data": {
      "text/html": [
       "<div>\n",
       "<style scoped>\n",
       "    .dataframe tbody tr th:only-of-type {\n",
       "        vertical-align: middle;\n",
       "    }\n",
       "\n",
       "    .dataframe tbody tr th {\n",
       "        vertical-align: top;\n",
       "    }\n",
       "\n",
       "    .dataframe thead th {\n",
       "        text-align: right;\n",
       "    }\n",
       "</style>\n",
       "<table border=\"1\" class=\"dataframe\">\n",
       "  <thead>\n",
       "    <tr style=\"text-align: right;\">\n",
       "      <th></th>\n",
       "      <th>age</th>\n",
       "      <th>job</th>\n",
       "      <th>marital</th>\n",
       "      <th>education</th>\n",
       "      <th>default</th>\n",
       "      <th>balance</th>\n",
       "      <th>housing</th>\n",
       "      <th>loan</th>\n",
       "      <th>contact</th>\n",
       "      <th>day</th>\n",
       "      <th>month</th>\n",
       "      <th>duration</th>\n",
       "      <th>campaign</th>\n",
       "      <th>pdays</th>\n",
       "      <th>previous</th>\n",
       "      <th>poutcome</th>\n",
       "      <th>deposit</th>\n",
       "    </tr>\n",
       "  </thead>\n",
       "  <tbody>\n",
       "    <tr>\n",
       "      <th>0</th>\n",
       "      <td>59</td>\n",
       "      <td>admin.</td>\n",
       "      <td>married</td>\n",
       "      <td>secondary</td>\n",
       "      <td>no</td>\n",
       "      <td>2 343,00 $</td>\n",
       "      <td>yes</td>\n",
       "      <td>no</td>\n",
       "      <td>unknown</td>\n",
       "      <td>5</td>\n",
       "      <td>may</td>\n",
       "      <td>1042</td>\n",
       "      <td>1</td>\n",
       "      <td>-1</td>\n",
       "      <td>0</td>\n",
       "      <td>unknown</td>\n",
       "      <td>yes</td>\n",
       "    </tr>\n",
       "    <tr>\n",
       "      <th>1</th>\n",
       "      <td>56</td>\n",
       "      <td>admin.</td>\n",
       "      <td>married</td>\n",
       "      <td>secondary</td>\n",
       "      <td>no</td>\n",
       "      <td>45,00 $</td>\n",
       "      <td>no</td>\n",
       "      <td>no</td>\n",
       "      <td>unknown</td>\n",
       "      <td>5</td>\n",
       "      <td>may</td>\n",
       "      <td>1467</td>\n",
       "      <td>1</td>\n",
       "      <td>-1</td>\n",
       "      <td>0</td>\n",
       "      <td>unknown</td>\n",
       "      <td>yes</td>\n",
       "    </tr>\n",
       "  </tbody>\n",
       "</table>\n",
       "</div>"
      ],
      "text/plain": [
       "   age     job  marital  education default       balance housing loan  \\\n",
       "0   59  admin.  married  secondary      no   2 343,00 $      yes   no   \n",
       "1   56  admin.  married  secondary      no      45,00 $       no   no   \n",
       "\n",
       "   contact  day month  duration  campaign  pdays  previous poutcome deposit  \n",
       "0  unknown    5   may      1042         1     -1         0  unknown     yes  \n",
       "1  unknown    5   may      1467         1     -1         0  unknown     yes  "
      ]
     },
     "execution_count": 156,
     "metadata": {},
     "output_type": "execute_result"
    }
   ],
   "source": [
    "df.head(2)"
   ]
  },
  {
   "cell_type": "code",
   "execution_count": 157,
   "id": "e167e33d",
   "metadata": {},
   "outputs": [
    {
     "data": {
      "text/plain": [
       "age           0\n",
       "job           0\n",
       "marital       0\n",
       "education     0\n",
       "default       0\n",
       "balance      25\n",
       "housing       0\n",
       "loan          0\n",
       "contact       0\n",
       "day           0\n",
       "month         0\n",
       "duration      0\n",
       "campaign      0\n",
       "pdays         0\n",
       "previous      0\n",
       "poutcome      0\n",
       "deposit       0\n",
       "dtype: int64"
      ]
     },
     "execution_count": 157,
     "metadata": {},
     "output_type": "execute_result"
    }
   ],
   "source": [
    "#Столбцы с пропусками\n",
    "df.isna().sum()"
   ]
  },
  {
   "cell_type": "code",
   "execution_count": 158,
   "id": "6327dd66",
   "metadata": {},
   "outputs": [
    {
     "data": {
      "text/plain": [
       "np.int64(25)"
      ]
     },
     "execution_count": 158,
     "metadata": {},
     "output_type": "execute_result"
    }
   ],
   "source": [
    "#Количество пропусков\n",
    "df.isna().sum().loc['balance']"
   ]
  },
  {
   "cell_type": "code",
   "execution_count": 159,
   "id": "01d6309f",
   "metadata": {},
   "outputs": [
    {
     "data": {
      "text/plain": [
       "job\n",
       "management       2566\n",
       "blue-collar      1944\n",
       "technician       1823\n",
       "admin.           1334\n",
       "services          923\n",
       "retired           778\n",
       "self-employed     405\n",
       "student           360\n",
       "unemployed        357\n",
       "entrepreneur      328\n",
       "housemaid         274\n",
       "unknown            70\n",
       "Name: count, dtype: int64"
      ]
     },
     "execution_count": 159,
     "metadata": {},
     "output_type": "execute_result"
    }
   ],
   "source": [
    "#Исследование столбца job на количество пропусков\n",
    "df['job'].value_counts()"
   ]
  },
  {
   "cell_type": "code",
   "execution_count": 160,
   "id": "7e97483f",
   "metadata": {},
   "outputs": [
    {
     "data": {
      "text/plain": [
       "education\n",
       "secondary    5476\n",
       "tertiary     3689\n",
       "primary      1500\n",
       "unknown       497\n",
       "Name: count, dtype: int64"
      ]
     },
     "execution_count": 160,
     "metadata": {},
     "output_type": "execute_result"
    }
   ],
   "source": [
    "#Исследование столбца education на количество пропусков\n",
    "df['education'].value_counts()"
   ]
  },
  {
   "cell_type": "markdown",
   "id": "6c5ca12d",
   "metadata": {},
   "source": [
    "Пропуск обозначен за unknown"
   ]
  },
  {
   "cell_type": "code",
   "execution_count": 161,
   "id": "b5de82a4",
   "metadata": {},
   "outputs": [
    {
     "name": "stdout",
     "output_type": "stream",
     "text": [
      "<class 'pandas.core.frame.DataFrame'>\n",
      "RangeIndex: 11162 entries, 0 to 11161\n",
      "Data columns (total 17 columns):\n",
      " #   Column     Non-Null Count  Dtype \n",
      "---  ------     --------------  ----- \n",
      " 0   age        11162 non-null  int64 \n",
      " 1   job        11162 non-null  object\n",
      " 2   marital    11162 non-null  object\n",
      " 3   education  11162 non-null  object\n",
      " 4   default    11162 non-null  object\n",
      " 5   balance    11137 non-null  object\n",
      " 6   housing    11162 non-null  object\n",
      " 7   loan       11162 non-null  object\n",
      " 8   contact    11162 non-null  object\n",
      " 9   day        11162 non-null  int64 \n",
      " 10  month      11162 non-null  object\n",
      " 11  duration   11162 non-null  int64 \n",
      " 12  campaign   11162 non-null  int64 \n",
      " 13  pdays      11162 non-null  int64 \n",
      " 14  previous   11162 non-null  int64 \n",
      " 15  poutcome   11162 non-null  object\n",
      " 16  deposit    11162 non-null  object\n",
      "dtypes: int64(6), object(11)\n",
      "memory usage: 1.4+ MB\n"
     ]
    }
   ],
   "source": [
    "df.info()"
   ]
  },
  {
   "cell_type": "code",
   "execution_count": 162,
   "id": "ed0f7792",
   "metadata": {},
   "outputs": [
    {
     "data": {
      "text/plain": [
       "0     2 343,00 $ \n",
       "1        45,00 $ \n",
       "2     1 270,00 $ \n",
       "Name: balance, dtype: object"
      ]
     },
     "execution_count": 162,
     "metadata": {},
     "output_type": "execute_result"
    }
   ],
   "source": [
    "#Тип данных object\n",
    "df['balance'].head(3)"
   ]
  },
  {
   "cell_type": "code",
   "execution_count": 163,
   "id": "6a70dfe3",
   "metadata": {},
   "outputs": [],
   "source": [
    "#Разделяем столбец balance на числовое значение и валюту\n",
    "df[['balance_value', 'currency']] = df['balance'].str.extract(r'([\\d,]+)\\s*(\\D+)')"
   ]
  },
  {
   "cell_type": "code",
   "execution_count": 164,
   "id": "cbe0a6d8",
   "metadata": {},
   "outputs": [],
   "source": [
    "#Преобразуем числовое значение в float (заменяем запятую на точку)\n",
    "df['balance_value'] = df['balance_value'].str.replace(',', '.').astype(float)"
   ]
  },
  {
   "cell_type": "code",
   "execution_count": 165,
   "id": "36b02fcd",
   "metadata": {},
   "outputs": [],
   "source": [
    "#Удаляем исходный столбец balance и currency, так большая часть данных в одной валюте\n",
    "df = df.drop(['balance','currency'], axis=1)"
   ]
  },
  {
   "cell_type": "code",
   "execution_count": 166,
   "id": "76351eff",
   "metadata": {},
   "outputs": [],
   "source": [
    "#Заменяем пропуски в balance_value медианным значением\n",
    "df['balance_value'] = df['balance_value'].fillna(df['balance_value'].median())"
   ]
  },
  {
   "cell_type": "code",
   "execution_count": 167,
   "id": "16297572",
   "metadata": {},
   "outputs": [],
   "source": [
    "#Заменяем пропуски в признаках job и education на модальные значения\n",
    "df['job'] = df['job'].replace('unknown', df['job'].mode()[0])\n",
    "df['education'] = df['education'].replace('unknown', df['education'].mode()[0])"
   ]
  },
  {
   "cell_type": "code",
   "execution_count": 168,
   "id": "43379cc6",
   "metadata": {},
   "outputs": [
    {
     "data": {
      "image/png": "[encoded data removed]",
      "text/plain": [
       "<Figure size 1000x600 with 1 Axes>"
      ]
     },
     "metadata": {},
     "output_type": "display_data"
    }
   ],
   "source": [
    "#Построим boxplot для визуализации выбросов\n",
    "plt.figure(figsize=(10, 6))\n",
    "sns.boxplot(x=df['balance_value'])\n",
    "plt.title('Boxplot баланса до удаления выбросов')\n",
    "plt.show()"
   ]
  },
  {
   "cell_type": "markdown",
   "id": "f6487603",
   "metadata": {},
   "source": [
    "При таком boxplot межквартальный размах (IQR) неоптимален, используем Z-score"
   ]
  },
  {
   "cell_type": "code",
   "execution_count": 169,
   "id": "fa4e2140",
   "metadata": {},
   "outputs": [
    {
     "name": "stdout",
     "output_type": "stream",
     "text": [
      "Исходный размер: 11162 записей\n",
      "После очистки: 11162 записей\n",
      "Удалено 0 выбросов (0.00% данных)\n"
     ]
    }
   ],
   "source": [
    "#Вычисляем z-scores для balance_value\n",
    "z_scores = np.abs(stats.zscore(df['balance_value']))\n",
    "#Устанавливаем порог\n",
    "threshold = 9\n",
    "#Удаляем выбросы\n",
    "df_clean = df[z_scores < threshold]\n",
    "# роверяем сколько данных удалилось\n",
    "print(f'Исходный размер: {len(df)} записей')\n",
    "print(f'После очистки: {len(df_clean)} записей')\n",
    "print(f'Удалено {len(df) - len(df_clean)} выбросов ({((len(df) - len(df_clean))/len(df))*100:.2f}% данных)')"
   ]
  },
  {
   "cell_type": "code",
   "execution_count": 171,
   "id": "21991be2",
   "metadata": {},
   "outputs": [
    {
     "name": "stdout",
     "output_type": "stream",
     "text": [
      "Исходный размер: 11162 записей\n",
      "После очистки: 11162 записей\n",
      "Удалено 0 выбросов (0.00% данных)\n"
     ]
    }
   ],
   "source": [
    "#Логарифмическое преобразование + IQR\n",
    "df_log = df.copy()\n",
    "df_log['balance_log'] = np.log1p(df_log['balance_value'])  #log(1+x) для обработки нулей\n",
    "\n",
    "Q1_log = df_log['balance_log'].quantile(0.25)\n",
    "Q3_log = df_log['balance_log'].quantile(0.75)\n",
    "IQR_log = Q3_log - Q1_log\n",
    "\n",
    "df_clean = df[(df_log['balance_log'] >= Q1_log - 1.5*IQR_log) & \n",
    "              (df_log['balance_log'] <= Q3_log + 1.5*IQR_log)]\n",
    "\n",
    "#Проверяем сколько данных удалилось\n",
    "print(f'Исходный размер: {len(df)} записей')\n",
    "print(f'После очистки: {len(df_clean)} записей')\n",
    "print(f'Удалено {len(df) - len(df_clean)} выбросов ({((len(df) - len(df_clean))/len(df))*100:.2f}% данных)')"
   ]
  },
  {
   "cell_type": "code",
   "execution_count": 172,
   "id": "5bad1233",
   "metadata": {},
   "outputs": [
    {
     "name": "stdout",
     "output_type": "stream",
     "text": [
      "Исходный размер: 11162 записей\n",
      "После очистки: 11050 записей\n",
      "Удалено 112 выбросов (1.00% данных)\n"
     ]
    }
   ],
   "source": [
    "#Процентили (более консервативный)\n",
    "lower_bound = df['balance_value'].quantile(0.01)\n",
    "upper_bound = df['balance_value'].quantile(0.99)\n",
    "df_clean = df[(df['balance_value'] >= lower_bound) & (df['balance_value'] <= upper_bound)]\n",
    "\n",
    "#Проверяем сколько данных удалилось\n",
    "print(f'Исходный размер: {len(df)} записей')\n",
    "print(f'После очистки: {len(df_clean)} записей')\n",
    "print(f'Удалено {len(df) - len(df_clean)} выбросов ({((len(df) - len(df_clean))/len(df))*100:.2f}% данных)')"
   ]
  }
 ],
 "metadata": {
  "kernelspec": {
   "display_name": "Python 3",
   "language": "python",
   "name": "python3"
  },
  "language_info": {
   "codemirror_mode": {
    "name": "ipython",
    "version": 3
   },
   "file_extension": ".py",
   "mimetype": "text/x-python",
   "name": "python",
   "nbconvert_exporter": "python",
   "pygments_lexer": "ipython3",
   "version": "3.12.4"
  }
 },
 "nbformat": 4,
 "nbformat_minor": 5
}
